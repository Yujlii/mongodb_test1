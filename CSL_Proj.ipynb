{
 "cells": [
  {
   "attachments": {},
   "cell_type": "markdown",
   "metadata": {},
   "source": [
    "# CSL PROJECT"
   ]
  },
  {
   "cell_type": "code",
   "execution_count": 51,
   "metadata": {},
   "outputs": [],
   "source": [
    "# Import all packages needed\n",
    "# pip install --upgrade py2neo\n",
    "import py2neo\n",
    "import pandas as pd"
   ]
  },
  {
   "cell_type": "code",
   "execution_count": 52,
   "metadata": {},
   "outputs": [],
   "source": [
    "from py2neo import Graph"
   ]
  },
  {
   "attachments": {},
   "cell_type": "markdown",
   "metadata": {},
   "source": [
    "## Task 1"
   ]
  },
  {
   "cell_type": "code",
   "execution_count": 53,
   "metadata": {},
   "outputs": [],
   "source": [
    "# define the uri, username and password for connecting to the toy database\n",
    "uri_address = \"neo4j+s://bbf4b768.databases.neo4j.io:7687\"\n",
    "username = \"neo4j\"\n",
    "password = \"2wlwMeE-FWEtYLXOkIoCK3f3900DpFBR5pLnQRLGK4I\""
   ]
  },
  {
   "cell_type": "code",
   "execution_count": 54,
   "metadata": {},
   "outputs": [],
   "source": [
    "# Connect to the graph databse using uri authentication\n",
    "graph = Graph(uri=uri_address, port = 7687, auth=(username, password))"
   ]
  },
  {
   "attachments": {},
   "cell_type": "markdown",
   "metadata": {},
   "source": [
    "## Task 2"
   ]
  },
  {
   "cell_type": "code",
   "execution_count": 6,
   "metadata": {},
   "outputs": [
    {
     "data": {
      "text/plain": [
       "[{'Param5': 10,\n",
       "  'Param4': 10,\n",
       "  'Param3': 0.001,\n",
       "  'Param2': 500,\n",
       "  'ProcessID': 'P1',\n",
       "  'Param1': 60},\n",
       " {'Param5': 10,\n",
       "  'Param4': 10,\n",
       "  'Param3': 0.001,\n",
       "  'ProcessID': 'P2',\n",
       "  'Param1': 130000000}]"
      ]
     },
     "execution_count": 6,
     "metadata": {},
     "output_type": "execute_result"
    }
   ],
   "source": [
    "# find all properties keys and values of nodes belonging to Process node type\n",
    "properties_process = \"MATCH (p:Process) RETURN COLLECT(p{.*})\"\n",
    "result_process =graph.evaluate(properties_process)\n",
    "result_process"
   ]
  },
  {
   "cell_type": "code",
   "execution_count": 7,
   "metadata": {},
   "outputs": [
    {
     "data": {
      "text/html": [
       "<div>\n",
       "<style scoped>\n",
       "    .dataframe tbody tr th:only-of-type {\n",
       "        vertical-align: middle;\n",
       "    }\n",
       "\n",
       "    .dataframe tbody tr th {\n",
       "        vertical-align: top;\n",
       "    }\n",
       "\n",
       "    .dataframe thead th {\n",
       "        text-align: right;\n",
       "    }\n",
       "</style>\n",
       "<table border=\"1\" class=\"dataframe\">\n",
       "  <thead>\n",
       "    <tr style=\"text-align: right;\">\n",
       "      <th></th>\n",
       "      <th>Param5</th>\n",
       "      <th>Param4</th>\n",
       "      <th>Param3</th>\n",
       "      <th>Param2</th>\n",
       "      <th>ProcessID</th>\n",
       "      <th>Param1</th>\n",
       "    </tr>\n",
       "  </thead>\n",
       "  <tbody>\n",
       "    <tr>\n",
       "      <th>0</th>\n",
       "      <td>10</td>\n",
       "      <td>10</td>\n",
       "      <td>0.001</td>\n",
       "      <td>500.0</td>\n",
       "      <td>P1</td>\n",
       "      <td>60</td>\n",
       "    </tr>\n",
       "    <tr>\n",
       "      <th>1</th>\n",
       "      <td>10</td>\n",
       "      <td>10</td>\n",
       "      <td>0.001</td>\n",
       "      <td>NaN</td>\n",
       "      <td>P2</td>\n",
       "      <td>130000000</td>\n",
       "    </tr>\n",
       "  </tbody>\n",
       "</table>\n",
       "</div>"
      ],
      "text/plain": [
       "   Param5  Param4  Param3  Param2 ProcessID     Param1\n",
       "0      10      10   0.001   500.0        P1         60\n",
       "1      10      10   0.001     NaN        P2  130000000"
      ]
     },
     "execution_count": 7,
     "metadata": {},
     "output_type": "execute_result"
    }
   ],
   "source": [
    "# Create the dataframe for the results of properties\n",
    "result_df1 = pd.DataFrame(result_process)\n",
    "result_df1"
   ]
  },
  {
   "cell_type": "code",
   "execution_count": 8,
   "metadata": {},
   "outputs": [
    {
     "data": {
      "text/plain": [
       "[{'MaterialID': 'M1S', 'Owner': 'YOUR-NAME', 'Note': 'Start'},\n",
       " {'MaterialID': 'M1P', 'Owner': 'YOUR-NAME', 'Note': 'Positive'},\n",
       " {'MaterialID': 'M1N', 'Owner': 'YOUR-NAME', 'Note': 'Negative'},\n",
       " {'MaterialID': 'M2S', 'Owner': 'YOUR-NAME', 'Note': 'Start'},\n",
       " {'MaterialID': 'M2P', 'Owner': 'YOUR-NAME', 'Note': 'Positive'},\n",
       " {'MaterialID': 'M2N', 'Owner': 'YOUR-NAME', 'Note': 'Negative'}]"
      ]
     },
     "execution_count": 8,
     "metadata": {},
     "output_type": "execute_result"
    }
   ],
   "source": [
    "# find all properties keys and values of nodes belonging to Material node type\n",
    "properties_material = \"MATCH (m:Material) RETURN COLLECT(m{.*})\"\n",
    "result_material =graph.evaluate(properties_material)\n",
    "result_material"
   ]
  },
  {
   "cell_type": "code",
   "execution_count": 9,
   "metadata": {},
   "outputs": [
    {
     "data": {
      "text/html": [
       "<div>\n",
       "<style scoped>\n",
       "    .dataframe tbody tr th:only-of-type {\n",
       "        vertical-align: middle;\n",
       "    }\n",
       "\n",
       "    .dataframe tbody tr th {\n",
       "        vertical-align: top;\n",
       "    }\n",
       "\n",
       "    .dataframe thead th {\n",
       "        text-align: right;\n",
       "    }\n",
       "</style>\n",
       "<table border=\"1\" class=\"dataframe\">\n",
       "  <thead>\n",
       "    <tr style=\"text-align: right;\">\n",
       "      <th></th>\n",
       "      <th>MaterialID</th>\n",
       "      <th>Owner</th>\n",
       "      <th>Note</th>\n",
       "    </tr>\n",
       "  </thead>\n",
       "  <tbody>\n",
       "    <tr>\n",
       "      <th>0</th>\n",
       "      <td>M1S</td>\n",
       "      <td>YOUR-NAME</td>\n",
       "      <td>Start</td>\n",
       "    </tr>\n",
       "    <tr>\n",
       "      <th>1</th>\n",
       "      <td>M1P</td>\n",
       "      <td>YOUR-NAME</td>\n",
       "      <td>Positive</td>\n",
       "    </tr>\n",
       "    <tr>\n",
       "      <th>2</th>\n",
       "      <td>M1N</td>\n",
       "      <td>YOUR-NAME</td>\n",
       "      <td>Negative</td>\n",
       "    </tr>\n",
       "    <tr>\n",
       "      <th>3</th>\n",
       "      <td>M2S</td>\n",
       "      <td>YOUR-NAME</td>\n",
       "      <td>Start</td>\n",
       "    </tr>\n",
       "    <tr>\n",
       "      <th>4</th>\n",
       "      <td>M2P</td>\n",
       "      <td>YOUR-NAME</td>\n",
       "      <td>Positive</td>\n",
       "    </tr>\n",
       "    <tr>\n",
       "      <th>5</th>\n",
       "      <td>M2N</td>\n",
       "      <td>YOUR-NAME</td>\n",
       "      <td>Negative</td>\n",
       "    </tr>\n",
       "  </tbody>\n",
       "</table>\n",
       "</div>"
      ],
      "text/plain": [
       "  MaterialID      Owner      Note\n",
       "0        M1S  YOUR-NAME     Start\n",
       "1        M1P  YOUR-NAME  Positive\n",
       "2        M1N  YOUR-NAME  Negative\n",
       "3        M2S  YOUR-NAME     Start\n",
       "4        M2P  YOUR-NAME  Positive\n",
       "5        M2N  YOUR-NAME  Negative"
      ]
     },
     "execution_count": 9,
     "metadata": {},
     "output_type": "execute_result"
    }
   ],
   "source": [
    "result_df2 = pd.DataFrame(result_material)\n",
    "result_df2"
   ]
  },
  {
   "cell_type": "code",
   "execution_count": 10,
   "metadata": {},
   "outputs": [
    {
     "name": "stdout",
     "output_type": "stream",
     "text": [
      "The dataframe output for Process is:\n",
      " Param5  Param4  Param3  Param2 ProcessID    Param1\n",
      "     10      10   0.001   500.0        P1        60\n",
      "     10      10   0.001     NaN        P2 130000000\n",
      "The dataframe output for Material is:\n",
      "MaterialID     Owner     Note\n",
      "       M1S YOUR-NAME    Start\n",
      "       M1P YOUR-NAME Positive\n",
      "       M1N YOUR-NAME Negative\n",
      "       M2S YOUR-NAME    Start\n",
      "       M2P YOUR-NAME Positive\n",
      "       M2N YOUR-NAME Negative\n"
     ]
    }
   ],
   "source": [
    "print(\"The dataframe output for Process is:\")\n",
    "print(result_df1.to_string(index=False))\n",
    "print(\"The dataframe output for Material is:\")\n",
    "print(result_df2.to_string(index=False))"
   ]
  },
  {
   "attachments": {},
   "cell_type": "markdown",
   "metadata": {},
   "source": [
    "# Task 3\n"
   ]
  },
  {
   "cell_type": "code",
   "execution_count": 11,
   "metadata": {},
   "outputs": [],
   "source": [
    "# Test 1\n",
    "# out_query = \"MATCH (m:Material)-[:ProcessOutput]-(Process) WHERE m.MaterialID = 'M2P' RETURN m, collect(Process.ProcessID) AS ProcessID_From\"\n",
    "# test_result = graph.run(out_query)\n",
    "# test_result"
   ]
  },
  {
   "attachments": {},
   "cell_type": "markdown",
   "metadata": {},
   "source": [
    "## Attempt Based on MaterialID"
   ]
  },
  {
   "cell_type": "code",
   "execution_count": 12,
   "metadata": {},
   "outputs": [],
   "source": [
    "# material_ids = ['M1P', 'M1N', 'M2P', 'M2N']\n",
    "\n",
    "# # Initialise an empty list to store the query results\n",
    "# query_results = []\n",
    "\n",
    "# # Loop through each MaterialID and run the query\n",
    "# for material_id in material_ids:\n",
    "#     query = (\n",
    "#         f\"MATCH (m:Material {{MaterialID: '{material_id}'}})-[rel:ProcessOutput|ProcessInput]-(p:Process)\"\n",
    "#         f\"RETURN m.MaterialID AS MaterialID, m.Owner AS Owner, m.Note AS Note, \"\n",
    "#         f\"CASE WHEN type(rel) = 'ProcessOutput' THEN p.ProcessID ELSE NaN END AS ProcessID_To, \"\n",
    "#         f\"CASE WHEN type(rel) = 'ProcessInput' THEN p.ProcessID ELSE NaN END AS ProcessID_From\"\n",
    "#     )\n",
    "#     result = graph.run(query).data()\n",
    "#     query_results.extend(result)\n",
    "\n",
    "# # Create a pandas DataFrame from the query results\n",
    "# df = pd.DataFrame(query_results)"
   ]
  },
  {
   "attachments": {},
   "cell_type": "markdown",
   "metadata": {},
   "source": [
    "## Attempt2: Based on ProcessID"
   ]
  },
  {
   "cell_type": "code",
   "execution_count": 13,
   "metadata": {},
   "outputs": [],
   "source": [
    "process_ids = ['P1','P2']\n",
    "\n",
    "# Initialise an empty list to store the query results\n",
    "query_results = []\n",
    "\n",
    "# Loop through each MaterialID and run the query\n",
    "for process_id in process_ids:\n",
    "    query = (\n",
    "        f\"MATCH (p:Process {{ProcessID: '{process_id}'}})-[rel:ProcessOutput|ProcessInput]-(m:Material)\"\n",
    "        f\"RETURN m.MaterialID AS MaterialID, m.Owner AS Owner, m.Note AS Note, \"\n",
    "        f\"CASE WHEN type(rel) = 'ProcessInput' THEN p.ProcessID ELSE NaN END AS ProcessID_To, \"\n",
    "        f\"CASE WHEN type(rel) = 'ProcessOutput' THEN p.ProcessID ELSE NaN END AS ProcessID_From\"\n",
    "    )\n",
    "    result = graph.run(query).data()\n",
    "    query_results.extend(result)\n",
    "\n",
    "# Create a pandas DataFrame from the query results\n",
    "df2 = pd.DataFrame(query_results)"
   ]
  },
  {
   "cell_type": "code",
   "execution_count": 14,
   "metadata": {},
   "outputs": [
    {
     "data": {
      "text/html": [
       "<div>\n",
       "<style scoped>\n",
       "    .dataframe tbody tr th:only-of-type {\n",
       "        vertical-align: middle;\n",
       "    }\n",
       "\n",
       "    .dataframe tbody tr th {\n",
       "        vertical-align: top;\n",
       "    }\n",
       "\n",
       "    .dataframe thead th {\n",
       "        text-align: right;\n",
       "    }\n",
       "</style>\n",
       "<table border=\"1\" class=\"dataframe\">\n",
       "  <thead>\n",
       "    <tr style=\"text-align: right;\">\n",
       "      <th></th>\n",
       "      <th>MaterialID</th>\n",
       "      <th>Owner</th>\n",
       "      <th>Note</th>\n",
       "      <th>ProcessID_To</th>\n",
       "      <th>ProcessID_From</th>\n",
       "    </tr>\n",
       "  </thead>\n",
       "  <tbody>\n",
       "    <tr>\n",
       "      <th>0</th>\n",
       "      <td>M1N</td>\n",
       "      <td>YOUR-NAME</td>\n",
       "      <td>Negative</td>\n",
       "      <td>NaN</td>\n",
       "      <td>P1</td>\n",
       "    </tr>\n",
       "    <tr>\n",
       "      <th>1</th>\n",
       "      <td>M1P</td>\n",
       "      <td>YOUR-NAME</td>\n",
       "      <td>Positive</td>\n",
       "      <td>NaN</td>\n",
       "      <td>P1</td>\n",
       "    </tr>\n",
       "    <tr>\n",
       "      <th>2</th>\n",
       "      <td>M1S</td>\n",
       "      <td>YOUR-NAME</td>\n",
       "      <td>Start</td>\n",
       "      <td>P1</td>\n",
       "      <td>NaN</td>\n",
       "    </tr>\n",
       "    <tr>\n",
       "      <th>3</th>\n",
       "      <td>M2N</td>\n",
       "      <td>YOUR-NAME</td>\n",
       "      <td>Negative</td>\n",
       "      <td>NaN</td>\n",
       "      <td>P2</td>\n",
       "    </tr>\n",
       "    <tr>\n",
       "      <th>4</th>\n",
       "      <td>M2P</td>\n",
       "      <td>YOUR-NAME</td>\n",
       "      <td>Positive</td>\n",
       "      <td>NaN</td>\n",
       "      <td>P2</td>\n",
       "    </tr>\n",
       "    <tr>\n",
       "      <th>5</th>\n",
       "      <td>M2S</td>\n",
       "      <td>YOUR-NAME</td>\n",
       "      <td>Start</td>\n",
       "      <td>P2</td>\n",
       "      <td>NaN</td>\n",
       "    </tr>\n",
       "  </tbody>\n",
       "</table>\n",
       "</div>"
      ],
      "text/plain": [
       "  MaterialID      Owner      Note ProcessID_To ProcessID_From\n",
       "0        M1N  YOUR-NAME  Negative          NaN             P1\n",
       "1        M1P  YOUR-NAME  Positive          NaN             P1\n",
       "2        M1S  YOUR-NAME     Start           P1            NaN\n",
       "3        M2N  YOUR-NAME  Negative          NaN             P2\n",
       "4        M2P  YOUR-NAME  Positive          NaN             P2\n",
       "5        M2S  YOUR-NAME     Start           P2            NaN"
      ]
     },
     "execution_count": 14,
     "metadata": {},
     "output_type": "execute_result"
    }
   ],
   "source": [
    "df2"
   ]
  },
  {
   "attachments": {},
   "cell_type": "markdown",
   "metadata": {},
   "source": [
    "# Task 4"
   ]
  },
  {
   "cell_type": "code",
   "execution_count": 15,
   "metadata": {},
   "outputs": [
    {
     "data": {
      "text/plain": [
       "Index(['MaterialID', 'Owner', 'Note', 'ProcessID_To', 'ProcessID_From'], dtype='object')"
      ]
     },
     "execution_count": 15,
     "metadata": {},
     "output_type": "execute_result"
    }
   ],
   "source": [
    "df2.columns"
   ]
  },
  {
   "cell_type": "code",
   "execution_count": 60,
   "metadata": {},
   "outputs": [],
   "source": [
    "# Create dataframes (Hardcode)\n",
    "data_M = {\n",
    "    'MaterialID' : ['M3S','M5S','M5P','M5N','M3P','M3N'],\n",
    "    'Owner' : ['YUJIE'] *6,\n",
    "    'Note' : ['Start']*2 +['Positive','Negative']*2,\n",
    "    'ProcessID_To' : ['P3','P5'] + ['NaN']*4,\n",
    "    'ProcessID_From' : ['NaN']*2 + ['P5']*2 + ['P3']*2\n",
    " }\n",
    "\n",
    "data_P = {'ProcessID' : ['P5','P3'],\n",
    "          'Param5' : ['10','10'],\n",
    "          'Param4' : ['10','10'],\n",
    "          'Param3' : ['0.001','0.001'],\n",
    "          'Param2' : ['500','Nan'],\n",
    "          'Param1' : ['60','130000000']\n",
    "}\n",
    "df_M = pd.DataFrame(data_M)\n",
    "df_P = pd.DataFrame(data_P)"
   ]
  },
  {
   "cell_type": "code",
   "execution_count": null,
   "metadata": {},
   "outputs": [],
   "source": [
    "# Create new Process Nodes\n",
    "for _, row in df_P.iterrows():\n",
    "    p1 = row[\"Param1\"]\n",
    "    p2 = row['Param2']\n",
    "    p3 = row['Param3']\n",
    "    p4 = row['Param4']\n",
    "    p5 = row['Param5']\n",
    "    pid = row['ProcessID']\n",
    "    create_p_query = (\n",
    "        f\"CREATE (p:Process {{ Param1: $param1, Param2: $param2, Param3: $param3, Param4: $param4, Param5: $param5, ProcessID: $processid }})\"\n",
    "    )\n",
    "    \n",
    "    graph.run(create_p_query, param1 = p1, param2 = p2, param3 = p3, param4 = p4, param5 = p5, processid = pid)\n",
    "\n",
    "## To check whether nodes are successfully created\n",
    "# properties_process = \"MATCH (p:Process) RETURN COLLECT(p{.*})\"\n",
    "# result_process =graph.evaluate(properties_process)\n",
    "# result_process"
   ]
  },
  {
   "cell_type": "code",
   "execution_count": 61,
   "metadata": {},
   "outputs": [],
   "source": [
    "# Create new Material Nodes and connect to Process nodes\n",
    "for _, row in df_M.iterrows():\n",
    "    mid = row['MaterialID']\n",
    "    mowner = row['Owner']\n",
    "    mnote = row['Note']\n",
    "    to_id = row['ProcessID_To']\n",
    "    from_id = row['ProcessID_From']\n",
    "    # Create node\n",
    "    create_m_query = (\n",
    "        f\"CREATE (m:Material {{ MaterialID: $materialid, Note: $note, Owner: $owner}})\"\n",
    "    )\n",
    "    graph.run(create_m_query, materialid = mid, note = mnote, owner = mowner)\n",
    "    \n",
    "    # Create relationships\n",
    "    if to_id != 'NaN':\n",
    "        create_inrel_query = (\n",
    "                \"MATCH (m:Material { MaterialID: $materialid}), (p:Process { ProcessID: $processid}) \"\n",
    "                \"CREATE (m)-[:ProcessInput]->(p)\"\n",
    "            )\n",
    "        graph.run(create_inrel_query, materialid=mid, processid=to_id)\n",
    "\n",
    "\n",
    "    if from_id != 'NaN':\n",
    "        create_outrel_query = (\n",
    "                \"MATCH (m:Material { MaterialID: $materialid}), (p:Process { ProcessID: $processid}) \"\n",
    "                \"CREATE (p)-[:ProcessOutput]->(m)\"\n",
    "            )\n",
    "        graph.run(create_outrel_query, materialid=mid, processid=from_id)"
   ]
  },
  {
   "cell_type": "code",
   "execution_count": 59,
   "metadata": {},
   "outputs": [
    {
     "data": {
      "text/html": [
       "(No data)"
      ],
      "text/plain": [
       "(No data)"
      ]
     },
     "execution_count": 59,
     "metadata": {},
     "output_type": "execute_result"
    }
   ],
   "source": [
    "delete_rel_query = (\n",
    "    \"MATCH (m:Material { MaterialID: $material_id })-[r:ProcessInput]->(p:Process { ProcessID: $process_id }) \"\n",
    "    \"DELETE r\"\n",
    ")\n",
    "graph.run(delete_rel_query, material_id= 'M3S', process_id='P3')"
   ]
  },
  {
   "cell_type": "code",
   "execution_count": null,
   "metadata": {},
   "outputs": [],
   "source": []
  }
 ],
 "metadata": {
  "kernelspec": {
   "display_name": "base",
   "language": "python",
   "name": "python3"
  },
  "language_info": {
   "codemirror_mode": {
    "name": "ipython",
    "version": 3
   },
   "file_extension": ".py",
   "mimetype": "text/x-python",
   "name": "python",
   "nbconvert_exporter": "python",
   "pygments_lexer": "ipython3",
   "version": "3.8.9"
  },
  "orig_nbformat": 4
 },
 "nbformat": 4,
 "nbformat_minor": 2
}
